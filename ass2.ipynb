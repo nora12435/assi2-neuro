{
 "cells": [
  {
   "cell_type": "code",
   "execution_count": 1,
   "id": "811b019a-8df4-4644-8a33-497950b00418",
   "metadata": {},
   "outputs": [],
   "source": [
    "import numpy as np"
   ]
  },
  {
   "cell_type": "code",
   "execution_count": 2,
   "id": "94c7c687-638e-4b0c-9870-50ae6c27fbb0",
   "metadata": {},
   "outputs": [],
   "source": [
    "class SimpleNeuralNetwork:\n",
    "    def init(self, learning_rate): \n",
    "        self.learning_rate = learning_rate\n",
    "    def sigmoid(self, x):\n",
    "        return 1 / (1 + np.exp(-x))\n",
    "    def sigmoid_derivative(self, x):\n",
    "        return x * (1 - x)\n",
    "    def forward_pass(self, inputs, weights, biases):\n",
    "        self.inputs = np.array(inputs)\n",
    "        self.weights = np.array(weights)\n",
    "        self.biases = np.array(biases)\n",
    "        self.z_hidden = np.dot(self.inputs, self.weights[:4].reshape(2, 2)) + self.biases[:2]\n",
    "        self.a_hidden = self.sigmoid(self.z_hidden)\n",
    "        self.z_output = np.dot(self.a_hidden, self.weights[4:].reshape(2, 2)) + self.biases[2:]\n",
    "        self.a_output = self.sigmoid(self.z_output)\n",
    "        return self.a_output\n",
    "    def calculate_error(self, outputs, targets):\n",
    "        return 0.5 * np.sum((targets - outputs) ** 2)\n",
    "    def backward_pass(self, targets):\n",
    "        targets = np.array(targets)\n",
    "        output_error = self.a_output - targets\n",
    "        output_delta = output_error * self.sigmoid_derivative(self.a_output)\n",
    "        hidden_error = np.dot(output_delta, self.weights[4:].reshape(2, 2).T)\n",
    "        hidden_delta = hidden_error * self.sigmoid_derivative(self.a_hidden)\n",
    "        self.weights[4:] -= self.learning_rate * np.dot(self.a_hidden.reshape(2, 1), output_delta.reshape(1, 2)).flatten()\n",
    "        self.weights[:4] -= self.learning_rate * np.dot(self.inputs.reshape(2, 1), hidden_delta.reshape(1, 2)).flatten()\n",
    "        self.biases[2:] -= self.learning_rate * output_delta\n",
    "        self.biases[:2] -= self.learning_rate * hidden_delta\n",
    "        return self.weights, self.biases"
   ]
  },
  {
   "cell_type": "code",
   "execution_count": null,
   "id": "8f116e58-b490-467b-99ff-2eeca9e55929",
   "metadata": {},
   "outputs": [],
   "source": [
    "inputs = [float(input(\"Enter input 1: \")), float(input(\"Enter input 2: \"))]\n",
    "weights = [\n",
    "    float(input(\"Enter weight w1: \")), float(input(\"Enter weight w2: \")), \n",
    "    float(input(\"Enter weight w3: \")), float(input(\"Enter weight w4: \")),\n",
    "    float(input(\"Enter weight w5: \")), float(input(\"Enter weight w6: \")), \n",
    "    float(input(\"Enter weight w7: \")), float(input(\"Enter weight w8: \"))\n",
    "]\n",
    "biases = [\n",
    "    float(input(\"Enter bias for hidden neuron 1: \")), \n",
    "    float(input(\"Enter bias for hidden neuron 2: \")), \n",
    "    float(input(\"Enter bias for output neuron 1: \")), \n",
    "    float(input(\"Enter bias for output neuron 2: \"))\n",
    "]\n",
    "targets = [float(input(\"Enter desired output 1: \")), float(input(\"Enter desired output 2: \"))]\n",
    "learning_rate = float(input(\"Enter learning rate: \"))\n",
    "num_iterations = int(input(\"Enter the number of iterations: \"))\n",
    "nn = SimpleNeuralNetwork(learning_rate)\n",
    "for i in range(num_iterations):\n",
    "    outputs = nn.forward_pass(inputs, weights, biases)\n",
    "    error = nn.calculate_error(outputs, targets)\n",
    "    print(f\"Iteration {i+1}: Total error = {error}\")\n",
    "    weights, biases = nn.backward_pass(targets)\n",
    "print(\"\\nFinal updated weights:\", weights)"
   ]
  },
  {
   "cell_type": "code",
   "execution_count": null,
   "id": "279f184e-3507-4f0a-9ef3-2bb9f2350c01",
   "metadata": {},
   "outputs": [],
   "source": []
  }
 ],
 "metadata": {
  "kernelspec": {
   "display_name": "Python 3 (ipykernel)",
   "language": "python",
   "name": "python3"
  },
  "language_info": {
   "codemirror_mode": {
    "name": "ipython",
    "version": 3
   },
   "file_extension": ".py",
   "mimetype": "text/x-python",
   "name": "python",
   "nbconvert_exporter": "python",
   "pygments_lexer": "ipython3",
   "version": "3.11.9"
  }
 },
 "nbformat": 4,
 "nbformat_minor": 5
}
